{
 "cells": [
  {
   "cell_type": "code",
   "execution_count": 1,
   "id": "00db64f8",
   "metadata": {},
   "outputs": [
    {
     "name": "stdout",
     "output_type": "stream",
     "text": [
      "Hola mundo\n"
     ]
    }
   ],
   "source": [
    "print(\"Hola mundo\")"
   ]
  },
  {
   "cell_type": "code",
   "execution_count": null,
   "id": "fc9a6596",
   "metadata": {},
   "outputs": [
    {
     "name": "stdout",
     "output_type": "stream",
     "text": [
      "Manchester United\n",
      "Martinez\n",
      "Barcelona\n",
      "Matias\n",
      "Matias\n",
      "1.84\n",
      "26\n",
      "True\n",
      "Matias 1.84 26 True\n",
      "Matias Martinez 26 Asuncion\n"
     ]
    }
   ],
   "source": [
    "nombre_equipo = \"Manchester United\"\n",
    "print(nombre_equipo)\n",
    "\n",
    "apellido_del_participante = \"Martinez\"\n",
    "print(apellido_del_participante)\n",
    "\n",
    "nombre_equipo = \"Barcelona\"\n",
    "print(nombre_equipo)\n",
    "\n",
    "nombre_participante = \"Matias\"\n",
    "print(nombre_participante)\n",
    "\n",
    "nombre = \"Matias\" # String - str\n",
    "altura = 1.84 # Flotante - float\n",
    "edad = 26 # Entero - Integer - int\n",
    "feliz = True # Boolean - bool\n",
    "print(nombre) \n",
    "print(altura)\n",
    "print(edad)\n",
    "print(feliz)\n",
    "print(nombre, altura, edad, feliz)"
   ]
  },
  {
   "cell_type": "code",
   "execution_count": null,
   "id": "7aa1ac10",
   "metadata": {},
   "outputs": [
    {
     "name": "stdout",
     "output_type": "stream",
     "text": [
      "Matias Martinez 26 Asuncion\n"
     ]
    }
   ],
   "source": [
    "nombre = \"Matias Martinez\"\n",
    "edad = 26\n",
    "ciudad = \"Asuncion\"\n",
    "print(nombre, edad, ciudad)"
   ]
  },
  {
   "cell_type": "code",
   "execution_count": null,
   "id": "e660b728",
   "metadata": {},
   "outputs": [
    {
     "name": "stdout",
     "output_type": "stream",
     "text": [
      "El costo total es de:  18000\n",
      "El vuelto total es de:  32000\n"
     ]
    }
   ],
   "source": [
    "producto1 = 'Papa frita'\n",
    "costo_producto1 = 10000\n",
    "producto2 = 'Coca cola'\n",
    "costo_producto2 = 8000\n",
    "billetera = 50000\n",
    "\n",
    "costo_total_producto = costo_producto1 + costo_producto2\n",
    "print('El costo total es de: ', costo_total_producto)\n",
    "\n",
    "vuelto = billetera - costo_total_producto\n",
    "print('El vuelto total es de: ', vuelto)"
   ]
  },
  {
   "cell_type": "code",
   "execution_count": 17,
   "id": "b8eadcba",
   "metadata": {},
   "outputs": [
    {
     "name": "stdout",
     "output_type": "stream",
     "text": [
      "La cantidad de frutas son:  11\n",
      "La cantidad de frutas restantes son:  8\n"
     ]
    }
   ],
   "source": [
    "cantidad_de_manzanas = 5\n",
    "cantidad_de_naranjas = 6\n",
    "cantidad_de_frutas = cantidad_de_naranjas + cantidad_de_manzanas\n",
    "print('La cantidad de frutas son: ', cantidad_de_frutas)\n",
    "\n",
    "frutas_vendidas = 3 \n",
    "frutas_restantes = cantidad_de_frutas - frutas_vendidas\n",
    "print('La cantidad de frutas restantes son: ', frutas_restantes)"
   ]
  },
  {
   "cell_type": "code",
   "execution_count": 20,
   "id": "69b17d96",
   "metadata": {},
   "outputs": [
    {
     "name": "stdout",
     "output_type": "stream",
     "text": [
      "Hola. Me llamo Esteban Alarcon. Mucho Gusto.\n"
     ]
    }
   ],
   "source": [
    "nombre = 'Esteban'\n",
    "apellido = 'Alarcon'\n",
    "print(f'Hola. Me llamo {nombre} {apellido}. Mucho Gusto.')"
   ]
  },
  {
   "cell_type": "code",
   "execution_count": null,
   "id": "da953617",
   "metadata": {},
   "outputs": [
    {
     "name": "stdout",
     "output_type": "stream",
     "text": [
      "Hola me llamo Matias y mi apellido es Martinez y tengo 26 anhos y vivo en Asuncion, me gusta mucho Entrenar y trabajo como Programador\n"
     ]
    }
   ],
   "source": [
    "nombre = input('Ingrese su nombre') # El input siempre devuelve texto - String - str\n",
    "apellido = input('Ingrese su apellido') \n",
    "edad = input('Ingrese su edad')\n",
    "ciudad = input('Ingrese su ciudad')\n",
    "hobbie = input('Ingrese actividad favorita')\n",
    "ocupacion = input('Ingrese el trabajo al cual te dedicas')\n",
    "print(f'Hola me llamo {nombre} y mi apellido es {apellido} y tengo {edad} anhos y vivo en {ciudad}, me gusta mucho {hobbie} y trabajo como {ocupacion}')\n",
    "\n",
    "# int convierte la variable string del input() a entero"
   ]
  },
  {
   "cell_type": "code",
   "execution_count": 29,
   "id": "1f4fc708",
   "metadata": {},
   "outputs": [
    {
     "name": "stdout",
     "output_type": "stream",
     "text": [
      "La suma de 873 y 675 previamente ingresados es de 1548\n"
     ]
    }
   ],
   "source": [
    "numero1 = int(input('Ingrese el primer numero'))\n",
    "numero2 = int(input('Ingrese el segundo numero'))\n",
    "suma_numeros = numero1 + numero2\n",
    "print(f'La suma de {numero1} y {numero2} previamente ingresados es de {suma_numeros}')"
   ]
  },
  {
   "cell_type": "code",
   "execution_count": 31,
   "id": "16ea8cdd",
   "metadata": {},
   "outputs": [
    {
     "name": "stdout",
     "output_type": "stream",
     "text": [
      "Hola Matias Martinez. Bienvenido al bootcamp\n"
     ]
    }
   ],
   "source": [
    "def saludo():\n",
    "    nombre = input('Ingrese su nombre: ')\n",
    "    apellido = input('Ingrese su apellido: ')\n",
    "    print(f'Hola {nombre} {apellido}. Bienvenido al bootcamp')\n",
    "saludo()"
   ]
  },
  {
   "cell_type": "code",
   "execution_count": 32,
   "id": "b10d6a98",
   "metadata": {},
   "outputs": [
    {
     "name": "stdout",
     "output_type": "stream",
     "text": [
      "Hola Matias  Martinez. Bienvenido al bootcamp\n"
     ]
    }
   ],
   "source": [
    "saludo()"
   ]
  },
  {
   "cell_type": "code",
   "execution_count": 38,
   "id": "b75097e8",
   "metadata": {},
   "outputs": [],
   "source": [
    "def sandwich():\n",
    "    paso1 = input('Ingrese el primer ingrediente')\n",
    "    paso2 = input('Ingrese el segundo ingrediente')\n",
    "    paso3 = input('Ingrese el tercer ingrediente')\n",
    "    paso4 = input('Ingrese que hacer con el primer ingrediente')\n",
    "    paso5 = input('Ingrese que hacer con el segundo ingrediente')\n",
    "    paso6 = input('Ingrese que hacer con el tercer ingrediente')\n",
    "    resultado = 'Su sandwich esta listo.'\n",
    "    print(f'Busque {paso1} con {paso2} y {paso3} y luego {paso4} y tambien {paso5} para por ultimo {paso6}. {resultado}')\n"
   ]
  },
  {
   "cell_type": "code",
   "execution_count": 39,
   "id": "6e88d3c2",
   "metadata": {},
   "outputs": [
    {
     "name": "stdout",
     "output_type": "stream",
     "text": [
      "Busque tomate con jamon y pan y luego corte el tomate y tambien agarre la feta de jamon para por ultimo coloque todo entre el pan. Su sandwich esta listo.\n"
     ]
    }
   ],
   "source": [
    "sandwich()"
   ]
  },
  {
   "cell_type": "code",
   "execution_count": 62,
   "id": "4839f3f0",
   "metadata": {},
   "outputs": [
    {
     "name": "stdout",
     "output_type": "stream",
     "text": [
      "La raqueta que compraste es de dureza alta, grande, blanco\n"
     ]
    }
   ],
   "source": [
    "def raqueta_tennis(dureza,tamanho,color):\n",
    "    caracteristica = (dureza + ', ' + tamanho + ', ' + color)\n",
    "    print(f'La raqueta que compraste es de {caracteristica}')\n",
    "\n",
    "raqueta_tennis('dureza alta', 'grande', 'blanco')"
   ]
  },
  {
   "cell_type": "code",
   "execution_count": 63,
   "id": "2ff00191",
   "metadata": {},
   "outputs": [
    {
     "name": "stdout",
     "output_type": "stream",
     "text": [
      "La raqueta que compraste es de dureza alta, grande, blanco\n"
     ]
    }
   ],
   "source": [
    "def raqueta_tennis(dureza,tamanho,color):\n",
    "    print(f'La raqueta que compraste es de {dureza}, {tamanho}, {color}')\n",
    "\n",
    "raqueta_tennis('dureza alta', 'grande', 'blanco')"
   ]
  }
 ],
 "metadata": {
  "kernelspec": {
   "display_name": "Python 3",
   "language": "python",
   "name": "python3"
  },
  "language_info": {
   "codemirror_mode": {
    "name": "ipython",
    "version": 3
   },
   "file_extension": ".py",
   "mimetype": "text/x-python",
   "name": "python",
   "nbconvert_exporter": "python",
   "pygments_lexer": "ipython3",
   "version": "3.11.9"
  }
 },
 "nbformat": 4,
 "nbformat_minor": 5
}
