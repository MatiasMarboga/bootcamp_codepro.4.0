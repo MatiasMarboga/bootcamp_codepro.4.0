{
 "cells": [
  {
   "cell_type": "markdown",
   "id": "5366b819",
   "metadata": {},
   "source": [
    "## Challenge 🤺 - 25m\n",
    "\n",
    "Escribir una función que reciba como parámetros:\n",
    "- nombre del producto\n",
    "- cantidad\n",
    "- precio por unidad\n",
    "\n",
    "La función debe calcular el total del pedido y mostrar un resumen con todos los datos."
   ]
  },
  {
   "cell_type": "code",
   "execution_count": null,
   "id": "eeb3f6a7",
   "metadata": {},
   "outputs": [],
   "source": [
    "#Crear una funcion que reciba unos parametros definidos que serian nombre del producto, cantidad del producto, y precio por unidad del producto\n",
    "#Debe calcular el total del pedido, osea multiplicar la cantidad del producto por su precio por unidad\n",
    "#Debe mostrar un resumen del pedido donde muestre el tipo de producto comprado, la cantidad que se compro, y el costo total"
   ]
  },
  {
   "cell_type": "code",
   "execution_count": 17,
   "id": "0011dc53",
   "metadata": {},
   "outputs": [
    {
     "name": "stdout",
     "output_type": "stream",
     "text": [
      "SU COMPRA:\n",
      "Producto .............. Manzana\n",
      "Cantidad .............. 3\n",
      "Total ................. 10500\n"
     ]
    }
   ],
   "source": [
    "def pedido(producto, cantidad, precio_por_unidad):             #Crear una funcion que reciba unos parametros definidos que serian nombre del producto, cantidad del producto, y precio por unidad del producto.\n",
    "    compra = cantidad * precio_por_unidad                      #Debe calcularse el total del pedido, osea multiplicar la cantidad del producto por su precio por unidad.\n",
    "    print('SU COMPRA:')                     \n",
    "    print(f'Producto .............. {producto}')               #Debe mostrar un resumen del pedido donde muestre la cantidad que se compro, el tipo de producto comprado, y el costo total.\n",
    "    print(f'Cantidad .............. {cantidad}')\n",
    "    print(f'Total ................. {compra}')                                      \n",
    "\n",
    "pedido('Manzana', 3, 3500)"
   ]
  },
  {
   "cell_type": "markdown",
   "id": "4c9ecbc2",
   "metadata": {},
   "source": [
    "## DESGLOZAR PASO A PASO"
   ]
  },
  {
   "cell_type": "markdown",
   "id": "83cd1cb0",
   "metadata": {},
   "source": [
    "## CONDICIONALES\n",
    "if = si            -Solo una vez al principio.\n",
    "elif = sino        -Infinitas veces.\n",
    "else = sino si     -Solo una vez al final si no se cumple nada."
   ]
  },
  {
   "cell_type": "markdown",
   "id": "2f348d74",
   "metadata": {
    "vscode": {
     "languageId": "raw"
    }
   },
   "source": [
    "## Challenge🤺 - 20m\n",
    "\n",
    "Escribe un programa que `pregunte` al usuario por su edad y determine si tiene edad suficiente para comprar y consumir alcohol.\n",
    "- Si el usuario `tiene mas de 18 pero menos de 21 imprmir` \"Podes tomar pero no comprar\"\n",
    "- Si el usuario `tiene menos de 18` imprimir \"Juguito nomas\"\n",
    "- Si el usuario `tiene mas de 21` imprimir \"Hace lo que quieras\""
   ]
  },
  {
   "cell_type": "code",
   "execution_count": null,
   "id": "915185c3",
   "metadata": {},
   "outputs": [
    {
     "name": "stdout",
     "output_type": "stream",
     "text": [
      "Juguito nomas\n"
     ]
    }
   ],
   "source": [
    "#Crear una variable que pregunte al usuario su edad\n",
    "#Crear una condicion que revise si tiene mas de 18 anhos pero menos de 21 anhos\n",
    "#Crear una condicion que revise si tiene menos de 18 anhos\n",
    "#Crear una condicion que revise si no se cumple ninguna de las condiciones anteriores por lo tanto tiene mas de 21 anhos\n",
    "\n",
    "edad_usuario = int(input('Ingrese su edad por favor'))\n",
    "\n",
    "if edad_usuario >= 21:\n",
    "    print('Hace lo que quieras')\n",
    "\n",
    "elif edad_usuario >= 18:\n",
    "    print('Podes tomar pero no comprar')\n",
    "\n",
    "else:\n",
    "    print('Juguito nomas')"
   ]
  },
  {
   "cell_type": "markdown",
   "id": "03306c55",
   "metadata": {},
   "source": [
    "## OPERADORES LOGICOS\n",
    "and = y\n",
    "or = o\n",
    "not = no"
   ]
  },
  {
   "cell_type": "markdown",
   "id": "ef52e8fe",
   "metadata": {},
   "source": [
    "### Challenge 🤺 - 30m\n",
    "\n",
    "Escribir un programa en el que se `pregunte` al usuario por una temperatura (en grados Celsius), `imprima la temperatura escrita`, y luego `clasificar la temperatura` ingresada en los siguientes niveles:\n",
    "\n",
    "- `Entre -10 y 18 grados`, que imprima \"Fresquete\".\n",
    "- `Entre 19 y 30 grados`, que imprima \"Calor'i\".\n",
    "- `Entre 31 y 45 grados`, que imprima \"Hakuuuuuu\".\n",
    "- `Para todo lo demás`, imprimir \"Ñamano mba'e!\"."
   ]
  },
  {
   "cell_type": "code",
   "execution_count": 93,
   "id": "bad614cf",
   "metadata": {},
   "outputs": [
    {
     "name": "stdout",
     "output_type": "stream",
     "text": [
      "La temperatura actual es de -20.0 °C.\n",
      "Ñamano mba`e!\n"
     ]
    }
   ],
   "source": [
    "#Hay que crear una variable que pregunte al usuario cual es la temperatura actual.\n",
    "temperatura = float(input('Ingrese la temperatura actual por favor'))\n",
    "#Hay que imprimir la temperatura actual que el usuario ha ingresado en *C.\n",
    "print(f'La temperatura actual es de {temperatura} °C.')\n",
    "#Iniciar una condicion `if` que compare la temperatura recien ingresada con `-10 y 18 grados`.\n",
    "#Imprimir `Fresquete` si la temperatura ingresada esta dentro del rango previamente ingresado.\n",
    "if temperatura >= -10 and temperatura <= 18:\n",
    "    print('Fresquete.')\n",
    "#Iniciar una condicion `elif` que compare la temperatura recien ingresada con `19 y 30 grados`.\n",
    "#Imprimir `Calor'i` si la temperatura ingresada esta dentro del rango previamente ingresado.\n",
    "elif temperatura >= 19 and temperatura <= 30:\n",
    "    print('Calor`i.')\n",
    "#Iniciar una condicion `elif` que compare la temperatura recien ingresada con `31 y 45 grados`.\n",
    "#Imprimir `Hakuuu` si la temperatura ingresada esta dentro del rango previamente ingresado.\n",
    "elif temperatura >= 31 and temperatura <= 45:\n",
    "    print('Hakuuuuuu.')\n",
    "#Iniciar una condicion 'else' si todas las anteriores condiciones no se cumple\n",
    "#Imprimir 'Ñamano mba'e!' si la temperatura se salio de rango.\n",
    "else:\n",
    "    print('Ñamano mba`e!')\n"
   ]
  },
  {
   "cell_type": "markdown",
   "id": "bc22a3a8",
   "metadata": {},
   "source": [
    "### Challenge 🤺 - 20m\n",
    "Escribir un programa que `almacene` una contraseña en una `variable`, y `pregunte al usuario` por la contraseña `hasta que` introduzca la contraseña correcta.\n",
    "\n",
    "Cuando el usuario ingrese la `contrasena correcta`, `imprimir` un mensaje secreto."
   ]
  },
  {
   "cell_type": "code",
   "execution_count": null,
   "id": "360c07d4",
   "metadata": {},
   "outputs": [
    {
     "name": "stdout",
     "output_type": "stream",
     "text": [
      "La contrasenha ingresada es la correta,\n"
     ]
    }
   ],
   "source": [
    "#Crear una variable llamada 'contrasenha'\n",
    "#Preguntar al usuario el contenido de esa variable\n",
    "contrasenha_usuario = input('Ingrese la contrasenha a almacenar por favor')\n",
    "contrasenha = input('Ingrese la contrasenha por favor')\n",
    "#Crear un chiclo while para donde pregunte al usuario cual fue la contrasenha ingresada\n",
    "while True:\n",
    "#Verificar si la contrasenha introducida por el usuario es correcta o no\n",
    "    if contrasenha == contrasenha_usuario:\n",
    "#Imprimir 'La constrasenha ingresada es la correcta' si es correcta \n",
    "        print('La contrasenha ingresada es la correcta,')\n",
    "    else:\n",
    "#Imprimir 'La contrasenha ingresada no es la correcta' si no lo es\n",
    "        print('La contrasenha ingresada no es la correcta')\n",
    "#Cuando el usuario introduzca la contrasenha romper el ciclo\n",
    "    break"
   ]
  },
  {
   "cell_type": "markdown",
   "id": "7cb8e814",
   "metadata": {},
   "source": [
    "### Challenge 🤺 - 20m\n",
    "\n",
    "Crear una lista de 5 elementos. Luego, seguir los siguientes pasos.\n",
    "\n",
    "- `Agregar` un elemento al final de la lista.\n",
    "\n",
    "- `Modificar` el segundo elemento.\n",
    "\n",
    "- `Eliminar` el tercer elemento."
   ]
  },
  {
   "cell_type": "code",
   "execution_count": 129,
   "id": "7ccee45c",
   "metadata": {},
   "outputs": [
    {
     "name": "stdout",
     "output_type": "stream",
     "text": [
      "5\n",
      "['manzana', 'pera', 'naranja', 'kiwi', 'pinha']\n",
      "['manzana', 'pera', 'naranja', 'kiwi', 'pinha', 'mandarina']\n",
      "['manzana', 'toronja', 'naranja', 'kiwi', 'pinha', 'mandarina']\n",
      "['manzana', 'toronja', 'kiwi', 'pinha', 'mandarina']\n"
     ]
    }
   ],
   "source": [
    "lista_frutas = ['manzana', 'pera', 'naranja', 'kiwi', 'pinha']\n",
    "print(len(lista_frutas))\n",
    "print(lista_frutas)\n",
    "lista_frutas.append('mandarina')\n",
    "print(lista_frutas)\n",
    "lista_frutas[1] = 'toronja'\n",
    "print(lista_frutas)\n",
    "lista_frutas.remove('naranja')\n",
    "print(lista_frutas)"
   ]
  },
  {
   "cell_type": "markdown",
   "id": "db0f3342",
   "metadata": {},
   "source": [
    "### Challenge 🤺 - 10m\n",
    "\n",
    "Escribir un programa que itere en un rango de 10 veces. Por cada iteracion multiplicar el iterador por dos e imprimir el resultado."
   ]
  },
  {
   "cell_type": "code",
   "execution_count": 130,
   "id": "a9cec680",
   "metadata": {},
   "outputs": [
    {
     "name": "stdout",
     "output_type": "stream",
     "text": [
      "0\n",
      "2\n",
      "4\n",
      "6\n",
      "8\n",
      "10\n",
      "12\n",
      "14\n",
      "16\n",
      "18\n"
     ]
    }
   ],
   "source": [
    "for i in range(10):\n",
    "    print(i*2)"
   ]
  },
  {
   "cell_type": "markdown",
   "id": "8f3b6e2d",
   "metadata": {},
   "source": [
    "### Challenge 🤺 - 20m\n",
    "\n",
    "`Recorrer` los elementos de una lista de marcas e `imprimir` cada marca *__solamente__* si tiene 6 letras o más."
   ]
  },
  {
   "cell_type": "code",
   "execution_count": 153,
   "id": "f6bead01",
   "metadata": {},
   "outputs": [
    {
     "name": "stdout",
     "output_type": "stream",
     "text": [
      "adidas\n",
      "diadora\n",
      "topper\n"
     ]
    }
   ],
   "source": [
    "lista_marcas = ['nike', 'adidas', 'diadora', 'puma', 'topper']\n",
    "\n",
    "for marca in lista_marcas:\n",
    "    if len(marca) >= 6:\n",
    "        print(marca)\n",
    "\n"
   ]
  },
  {
   "cell_type": "markdown",
   "id": "410550c7",
   "metadata": {},
   "source": [
    "Repasar ultimo ejercicio"
   ]
  },
  {
   "cell_type": "markdown",
   "id": "fd04b872",
   "metadata": {},
   "source": [
    "### Challenge 🤺 - 10m\n",
    "\n",
    "`Solicitar al usuario` que ingrese una frase.\n",
    "\n",
    "`Imprimir` un mensaje cada vez que se `encuentre` una letra \"o\"."
   ]
  },
  {
   "cell_type": "code",
   "execution_count": 157,
   "id": "c474a5ac",
   "metadata": {},
   "outputs": [
    {
     "name": "stdout",
     "output_type": "stream",
     "text": [
      "Usted introdujo la o\n",
      "Usted introdujo la o\n",
      "Usted introdujo la o\n"
     ]
    }
   ],
   "source": [
    "frase = input('Ingrese una frase')\n",
    "\n",
    "for letra in frase:\n",
    "    if letra == ('o'):\n",
    "        print('Usted introdujo la o')"
   ]
  }
 ],
 "metadata": {
  "kernelspec": {
   "display_name": "Python 3",
   "language": "python",
   "name": "python3"
  },
  "language_info": {
   "codemirror_mode": {
    "name": "ipython",
    "version": 3
   },
   "file_extension": ".py",
   "mimetype": "text/x-python",
   "name": "python",
   "nbconvert_exporter": "python",
   "pygments_lexer": "ipython3",
   "version": "3.11.9"
  }
 },
 "nbformat": 4,
 "nbformat_minor": 5
}
