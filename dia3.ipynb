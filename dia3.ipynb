{
 "cells": [
  {
   "cell_type": "markdown",
   "id": "225d16d7",
   "metadata": {},
   "source": [
    "## Challenge 1 🤺 - 10m\n",
    "\n",
    "Crear una función que imprima la variable palabra."
   ]
  },
  {
   "cell_type": "code",
   "execution_count": 1,
   "id": "7cac2c87",
   "metadata": {},
   "outputs": [
    {
     "name": "stdout",
     "output_type": "stream",
     "text": [
      "cualquier palabra\n"
     ]
    }
   ],
   "source": [
    "def imprimir_palabra ():\n",
    "    palabra = 'cualquier palabra'\n",
    "    print(palabra)\n",
    "\n",
    "imprimir_palabra ()\n"
   ]
  },
  {
   "cell_type": "markdown",
   "id": "0bff15a5",
   "metadata": {},
   "source": [
    "## Challenge 2 🤺 - 15 min\n",
    "Crear una función que `reciba` dos letras `(parámetros)` y que `verifique` si son iguales:\n",
    "\n",
    "1. `Si son iguales`, imprimir \"Las letras son iguales\".\n",
    "\n",
    "2. `De lo contrario`, imprimir \"Las letras son diferentes\"."
   ]
  },
  {
   "cell_type": "code",
   "execution_count": 18,
   "id": "a106e686",
   "metadata": {},
   "outputs": [
    {
     "name": "stdout",
     "output_type": "stream",
     "text": [
      "Las letras son diferentes\n"
     ]
    }
   ],
   "source": [
    "def dos_letras(letra1, letra2):\n",
    "    letra1 = input('Ingrese una letra por favor')\n",
    "    letra2 = input('Ingrese la segunda letra por favor')\n",
    "    if letra1 == letra2:\n",
    "        print('Las letras son iguales')\n",
    "    else:\n",
    "        print('Las letras son diferentes')\n",
    "\n",
    "dos_letras('letra1', 'letra2')"
   ]
  },
  {
   "cell_type": "markdown",
   "id": "97dd480a",
   "metadata": {},
   "source": [
    "## Challenge 3 🤺 - 20m\n",
    "\n",
    "Crear una función que reciba `dos parámetros` (una palabra y un número), y que retorne `True` si el `número es igual` a la cantidad de letras de la palabra. En caso contrario, que retorne `False`.\n",
    "\n",
    "Pista: `cantidad de letras de una palabra en python`"
   ]
  },
  {
   "cell_type": "code",
   "execution_count": null,
   "id": "ca482d57",
   "metadata": {},
   "outputs": [
    {
     "data": {
      "text/plain": [
       "False"
      ]
     },
     "execution_count": 22,
     "metadata": {},
     "output_type": "execute_result"
    }
   ],
   "source": [
    "def palabra_numero(palabra, numero):\n",
    "    if len(palabra) == numero:\n",
    "        return True\n",
    "    else:\n",
    "        return False\n",
    "    \n",
    "palabra_numero('mano', 3)"
   ]
  },
  {
   "cell_type": "markdown",
   "id": "98374064",
   "metadata": {},
   "source": [
    "## Challenge 4 🤺 - 25 min\n",
    "Crear `función` que revise si una palabra `contiene` una letra. En caso de que la contenga, `retornar` la letra entre corchetes `[]`. De lo contrario, `retornar` solo la letra."
   ]
  },
  {
   "cell_type": "code",
   "execution_count": null,
   "id": "6bed88d7",
   "metadata": {},
   "outputs": [
    {
     "data": {
      "text/plain": [
       "'b'"
      ]
     },
     "execution_count": 39,
     "metadata": {},
     "output_type": "execute_result"
    }
   ],
   "source": [
    "palabra = input('Ingrese una palabra')\n",
    "letra = input('Ingrese una letra')\n",
    "\n",
    "def contener():\n",
    "    if palabra.count(letra):\n",
    "        return (f'[{letra}]')\n",
    "    else:\n",
    "        return letra\n",
    "    \n",
    "contener()\n",
    "    "
   ]
  },
  {
   "cell_type": "markdown",
   "id": "f8619c03",
   "metadata": {},
   "source": [
    "## Challenge 5 🤺 - 25m\n",
    "\n",
    "`Pedir al usuario` que ingrese 1 palabra, luego `convertir` esa palabra a una `lista` con sus caracteres con `list()`. Agregar esa lista de caracteres a una lista llamada `palabras_ingresadas`. Repetir el proceso 3 veces. Cada vez que se agregue una lista de caracteres, imprimir la lista `palabras_ingresadas`.\n",
    "\n",
    "\n",
    "Ejemplo del resultado esperado:\n",
    "\n",
    "```[['c', 'i', 'e', 'l', 'o']]``` # Al ingresar la primera palabra\n",
    "\n",
    "```[['c', 'i', 'e', 'l', 'o'], ['c', 'a', 'l', 'o', 'r']]``` # Al ingresar la segunda palabra\n",
    "\n",
    "```[['c', 'i', 'e', 'l', 'o'], ['c', 'a', 'l', 'o', 'r'], ['n', 'u', 'b', 'e', 's']]``` # Al ingresar la tercera palabra"
   ]
  },
  {
   "cell_type": "code",
   "execution_count": 20,
   "id": "07fe9143",
   "metadata": {},
   "outputs": [
    {
     "name": "stdout",
     "output_type": "stream",
     "text": [
      "['h', 'o', 'l', 'a', ' ']\n",
      "['h', 'o', 'l', 'a', ' '] ['c', 'o', 'm', 'o']\n",
      "[['h', 'o', 'l', 'a', ' '], ['c', 'o', 'm', 'o'], ['s', 'e', 'e', 'r', 'r']]\n"
     ]
    }
   ],
   "source": [
    "palabra1 = input('Ingrese una palabra por favor')\n",
    "palabra_lista = list(palabra1)\n",
    "print(list(palabra_lista))\n",
    "palabra2 = input('Ingrese una palabra por favor')\n",
    "palabras_lista2 = list(palabra2)\n",
    "print(palabra_lista, palabras_lista2)\n",
    "palabra3 = input('Ingrese una palabra por favor')\n",
    "palabras_lista3 = list(palabra3)\n",
    "lista_palabras = palabra_lista, palabras_lista2, palabras_lista3\n",
    "print(list(lista_palabras))"
   ]
  },
  {
   "cell_type": "markdown",
   "id": "757f6c3d",
   "metadata": {},
   "source": [
    "## Challenge 6 🤺 - 25m\n",
    "\n",
    "Dada la lista de ejemplo: \n",
    "\n",
    "lista = [['h', 'o', 'l', 'i', 's'], ['h', 'e', 'l', 'l', 'o'], ['h', 'a', 'l', 'l', 'o']]\n",
    "\n",
    "`Crear una función` que `imprima` una grilla (lista de listas), `una línea` por cada lista dentro de la lista principal.\n",
    "\n",
    "Ejemplo del resultado esperado:\n",
    "\n",
    "```\n",
    "['h', 'o', 'l', 'i', 's']\n",
    "['h', 'e', 'l', 'l', 'o']\n",
    "['h', 'a', 'l', 'l', 'o']\n",
    "```"
   ]
  },
  {
   "cell_type": "code",
   "execution_count": null,
   "id": "47d12022",
   "metadata": {},
   "outputs": [
    {
     "name": "stdout",
     "output_type": "stream",
     "text": [
      "['h', 'o', 'l', 'i', 's']\n",
      "['h', 'e', 'l', 'l', 'o']\n",
      "['h', 'a', 'l', 'l', 'o']\n"
     ]
    }
   ],
   "source": [
    "def grilla():\n",
    "    palabra = input('Ingrese una palabra por favor')\n",
    "    palabra_lista = list(palabra)\n",
    "    print(list(palabra_lista))\n",
    "\n",
    "grilla()\n",
    "grilla()\n",
    "grilla()"
   ]
  },
  {
   "cell_type": "code",
   "execution_count": null,
   "id": "b3272da3",
   "metadata": {},
   "outputs": [
    {
     "name": "stdout",
     "output_type": "stream",
     "text": [
      "['h', 'o', 'l', 'i', 's']\n",
      "['h', 'e', 'l', 'l', 'o']\n",
      "['h', 'a', 'l', 'l', 'o']\n"
     ]
    }
   ],
   "source": [
    "lista = [['h', 'o', 'l', 'i', 's'], ['h', 'e', 'l', 'l', 'o'], ['h', 'a', 'l', 'l', 'o']]\n",
    "\n",
    "def impr():\n",
    "    for i in lista:print(i)\n",
    "\n",
    "impr()"
   ]
  },
  {
   "cell_type": "code",
   "execution_count": 59,
   "id": "c18e39ef",
   "metadata": {},
   "outputs": [],
   "source": [
    "def obtener_fila_verificada(palabra_a_encontrar, palabra_ingresada):\n",
    "    cantidad_de_letras_de_palabra_a_encontrar = 5\n",
    "\n",
    "    # Creamos una lista vacía para almacenar el resultado de una linea\n",
    "    letras_verificadas = []\n",
    "\n",
    "    # Iteramos por cada letra de la palabra ingresada\n",
    "    for p in range(cantidad_de_letras_de_palabra_a_encontrar):\n",
    "\n",
    "        las_letras_son_iguales = palabra_a_encontrar[p] == palabra_ingresada[p]\n",
    "\n",
    "        la_letra_existe_en_la_palabra = palabra_ingresada[p] in palabra_a_encontrar\n",
    "\n",
    "        if las_letras_son_iguales:\n",
    "            # Guardar las letras que estan en la palabra a encontrar y coinciden en la posicion dentro de corchetes\n",
    "            letras_verificadas.append(\"[\"+palabra_ingresada[p]+\"]\")\n",
    "\n",
    "        elif la_letra_existe_en_la_palabra:\n",
    "            # Guardar las letras que no coinciden pero que estan en la palabra a encontrar dentro de parentesis\n",
    "            letras_verificadas.append(\"(\"+palabra_ingresada[p]+\")\")\n",
    "            \n",
    "        else:\n",
    "            letras_verificadas.append(palabra_ingresada[p])\n",
    "\n",
    "    return letras_verificadas"
   ]
  },
  {
   "cell_type": "code",
   "execution_count": 73,
   "id": "0d42abe0",
   "metadata": {},
   "outputs": [
    {
     "name": "stdout",
     "output_type": "stream",
     "text": [
      "['[p]', '[a]', '[l]', '[a]', '[b]'] ------ te quedan 4 vidas\n",
      "['[p]', '[a]', '[l]', '[a]', '[b]'] ------ te quedan 3 vidas\n",
      "['[p]', '[a]', '[l]', '[a]', '[b]'] ------ te quedan 2 vidas\n",
      "['[p]', '[a]', '[l]', '[a]', '[b]'] ------ te quedan 1 vidas\n",
      "['[p]', '[a]', '[l]', '[a]', '[b]'] ------ te quedan 0 vidas\n"
     ]
    }
   ],
   "source": [
    "intentos = 5\n",
    "resultado = obtener_fila_verificada(\"palabra\", palabra_ingresada = input(\"ingrese la palabra: \"))\n",
    "while intentos > 0:\n",
    "    if resultado == list('palabra'):\n",
    "        print(\"GANASTE\")\n",
    "    elif resultado:\n",
    "        print(f\"{resultado} ------ te quedan {intentos - 1} vidas\")\n",
    "        intentos = intentos - 1\n",
    "    else:\n",
    "        print('                    Fin del juego')"
   ]
  }
 ],
 "metadata": {
  "kernelspec": {
   "display_name": "Python 3",
   "language": "python",
   "name": "python3"
  },
  "language_info": {
   "codemirror_mode": {
    "name": "ipython",
    "version": 3
   },
   "file_extension": ".py",
   "mimetype": "text/x-python",
   "name": "python",
   "nbconvert_exporter": "python",
   "pygments_lexer": "ipython3",
   "version": "3.11.9"
  }
 },
 "nbformat": 4,
 "nbformat_minor": 5
}
